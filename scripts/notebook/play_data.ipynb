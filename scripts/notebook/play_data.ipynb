{
 "cells": [
  {
   "cell_type": "code",
   "execution_count": 1,
   "metadata": {
    "collapsed": false
   },
   "outputs": [],
   "source": [
    "import pandas as pd"
   ]
  },
  {
   "cell_type": "code",
   "execution_count": 12,
   "metadata": {
    "collapsed": false
   },
   "outputs": [],
   "source": [
    "train = pd.read_csv(\"../../data/train.csv\")"
   ]
  },
  {
   "cell_type": "code",
   "execution_count": 13,
   "metadata": {
    "collapsed": false
   },
   "outputs": [
    {
     "data": {
      "text/plain": [
       "(37670293, 24)"
      ]
     },
     "execution_count": 13,
     "metadata": {},
     "output_type": "execute_result"
    }
   ],
   "source": [
    "train.shape"
   ]
  },
  {
   "cell_type": "markdown",
   "metadata": {},
   "source": []
  },
  {
   "cell_type": "code",
   "execution_count": 21,
   "metadata": {
    "collapsed": false
   },
   "outputs": [
    {
     "data": {
      "text/plain": [
       "1187360    530\n",
       "1040395    501\n",
       "124565     498\n",
       "1043120    495\n",
       "783124     491\n",
       "96700      490\n",
       "685462     485\n",
       "908612     483\n",
       "1011295    480\n",
       "52390      479\n",
       "564498     478\n",
       "608596     476\n",
       "1156323    475\n",
       "21044      471\n",
       "42680      471\n",
       "1056941    469\n",
       "333302     468\n",
       "135838     468\n",
       "734404     467\n",
       "895871     467\n",
       "254104     467\n",
       "389311     466\n",
       "73437      465\n",
       "673372     464\n",
       "1155930    462\n",
       "1018826    462\n",
       "103709     461\n",
       "946838     460\n",
       "169209     460\n",
       "1186036    459\n",
       "          ... \n",
       "409759       2\n",
       "372896       2\n",
       "282192       2\n",
       "674108       2\n",
       "389651       2\n",
       "1190099      2\n",
       "197202       2\n",
       "440294       2\n",
       "445957       2\n",
       "109219       2\n",
       "1133149      2\n",
       "704782       2\n",
       "860051       2\n",
       "1046528      2\n",
       "1100994      2\n",
       "922537       2\n",
       "1119691      2\n",
       "774051       2\n",
       "970499       2\n",
       "684403       2\n",
       "489745       2\n",
       "174786       2\n",
       "346332       2\n",
       "240354       2\n",
       "471280       2\n",
       "981025       2\n",
       "669302       2\n",
       "73844        2\n",
       "909245       2\n",
       "886682       2\n",
       "Name: user_id, dtype: int64"
      ]
     },
     "execution_count": 21,
     "metadata": {},
     "output_type": "execute_result"
    }
   ],
   "source": [
    "train[\"user_id\"].value_counts()6"
   ]
  },
  {
   "cell_type": "code",
   "execution_count": null,
   "metadata": {
    "collapsed": true
   },
   "outputs": [],
   "source": []
  }
 ],
 "metadata": {
  "kernelspec": {
   "display_name": "tensorflow_r1.0",
   "language": "python",
   "name": "tensorflow_1.0_isolated"
  },
  "language_info": {
   "codemirror_mode": {
    "name": "ipython",
    "version": 2
   },
   "file_extension": ".py",
   "mimetype": "text/x-python",
   "name": "python",
   "nbconvert_exporter": "python",
   "pygments_lexer": "ipython2",
   "version": "2.7.12"
  }
 },
 "nbformat": 4,
 "nbformat_minor": 2
}
