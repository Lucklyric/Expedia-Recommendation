{
 "cells": [
  {
   "cell_type": "code",
   "execution_count": 2,
   "metadata": {
    "collapsed": true,
    "deletable": true,
    "editable": true
   },
   "outputs": [],
   "source": [
    "import os\n",
    "import tensorflow as tf\n",
    "import pandas as pd\n",
    "import numpy as np\n",
    "chunksize=10000"
   ]
  },
  {
   "cell_type": "code",
   "execution_count": 14,
   "metadata": {
    "collapsed": false
   },
   "outputs": [],
   "source": [
    "des_latent = pd.read_csv(\"../../data/destinations.csv\")\n",
    "np.save(\"../../data/destinations\",des_latent.values[:,1:])"
   ]
  },
  {
   "cell_type": "code",
   "execution_count": 15,
   "metadata": {
    "collapsed": false
   },
   "outputs": [],
   "source": [
    "des_value = np.load(\"../../data/destinations.npy\")"
   ]
  },
  {
   "cell_type": "code",
   "execution_count": null,
   "metadata": {
    "collapsed": true,
    "deletable": true,
    "editable": true
   },
   "outputs": [],
   "source": [
    "train = pd.read_csv(\"../../data/train.csv\", iterator=True,chunksize=chunksize,na_values={'null','NaN'},keep_default_na=True)"
   ]
  },
  {
   "cell_type": "code",
   "execution_count": null,
   "metadata": {
    "collapsed": true,
    "deletable": true,
    "editable": true
   },
   "outputs": [],
   "source": [
    "writer_13 = tf.python_io.TFRecordWriter(\"../../data/train-13.tfrecords\")\n",
    "writer_14 = tf.python_io.TFRecordWriter(\"../../data/train-14.tfrecords\")"
   ]
  },
  {
   "cell_type": "code",
   "execution_count": null,
   "metadata": {
    "collapsed": false,
    "deletable": true,
    "editable": true,
    "scrolled": true
   },
   "outputs": [],
   "source": [
    "test = None\n",
    "counter = 0\n",
    "for train_chunk in train:\n",
    "    counter+=1\n",
    "    print (\"Process %d, chunk\" % counter)\n",
    "    # Convert date_time\n",
    "    train_chunk[\"srch_ci\"] = pd.to_datetime(train_chunk[\"srch_ci\"],errors=\"coerce\")\n",
    "    train_chunk[\"srch_co\"] = pd.to_datetime(train_chunk[\"srch_co\"],errors=\"coerce\")\n",
    "    train_chunk[\"date_time\"] = pd.to_datetime(train_chunk[\"date_time\"],errors=\"coerce\")\n",
    "\n",
    "    train_chunk = train_chunk.dropna(subset=[\"srch_ci\",\"srch_co\",\"date_time\"])\n",
    "\n",
    "    train_chunk[\"srch_ci_month\"] = train_chunk[\"srch_ci\"].dt.month\n",
    "    train_chunk[\"srch_ci_day\"] = train_chunk[\"srch_ci\"].dt.day\n",
    "\n",
    "    train_chunk[\"srch_co_month\"] = train_chunk[\"srch_co\"].dt.month\n",
    "    train_chunk[\"srch_co_day\"] = train_chunk[\"srch_co\"].dt.day\n",
    "    \n",
    "    train_chunk[\"month\"] = train_chunk[\"date_time\"].dt.month\n",
    "    train_chunk[\"year\"] = train_chunk[\"date_time\"].dt.year\n",
    "\n",
    "    \n",
    "    # Drop date_time\n",
    "    train_chunk = train_chunk.drop(['date_time','srch_co','srch_ci'],axis=1)\n",
    "    \n",
    "    # Fill NaN\n",
    "    train_chunk = train_chunk.fillna(-1)\n",
    "    \n",
    "    # Seperate to two years\n",
    "    t1 = train_chunk[((train_chunk.year == 2013) | ((train_chunk.year == 2014) & (train_chunk.month < 8)))]\n",
    "    t2 = train_chunk[((train_chunk.year == 2014) & (train_chunk.month >= 8))]\n",
    "\n",
    "     # Drop year\n",
    "    t1 = train_chunk.drop(['year'],axis=1)\n",
    "    t2 = train_chunk.drop(['year'],axis=1)\n",
    "\n",
    "    # Re-order\n",
    "    cols = t1.columns.tolist()\n",
    "    cols = cols[-5:]+cols[:-5]\n",
    "    t1 = t1[cols]\n",
    "    t2 = t2[cols]\n",
    "\n",
    "    # Write to TFRecords\n",
    "    for row in t1.values:\n",
    "        example = tf.train.Example(features=tf.train.Features(\n",
    "            feature={\n",
    "                \"label\":tf.train.Feature(float_list=tf.train.FloatList(value=[row[-1]] )),\n",
    "                \"feature\":tf.train.Feature(float_list=tf.train.FloatList(value=row[:-1] ))\n",
    "            }\n",
    "        ))\n",
    "        writer_13.write(example.SerializeToString())\n",
    "        \n",
    "    for row in t2.values:\n",
    "        example = tf.train.Example(features=tf.train.Features(\n",
    "            feature={\n",
    "                \"label\":tf.train.Feature(float_list=tf.train.FloatList(value=[row[-1]] )),\n",
    "                \"feature\":tf.train.Feature(float_list=tf.train.FloatList(value=row[:-1] ))\n",
    "            }\n",
    "        ))\n",
    "        writer_14.write(example.SerializeToString())\n",
    "    test = t2\n",
    "    break\n",
    "writer_13.close()\n",
    "writer_14.close()"
   ]
  },
  {
   "cell_type": "code",
   "execution_count": null,
   "metadata": {
    "collapsed": false,
    "deletable": true,
    "editable": true
   },
   "outputs": [],
   "source": [
    "print (\"Done!!\")"
   ]
  },
  {
   "cell_type": "code",
   "execution_count": null,
   "metadata": {
    "collapsed": false,
    "deletable": true,
    "editable": true
   },
   "outputs": [],
   "source": [
    "test.columns"
   ]
  },
  {
   "cell_type": "code",
   "execution_count": null,
   "metadata": {
    "collapsed": true,
    "deletable": true,
    "editable": true
   },
   "outputs": [],
   "source": [
    ""
   ]
  }
 ],
 "metadata": {
  "kernelspec": {
   "display_name": "tensorflow_r1.0",
   "language": "python",
   "name": "tensorflow_1.0_isolated"
  },
  "language_info": {
   "codemirror_mode": {
    "name": "ipython",
    "version": 2.0
   },
   "file_extension": ".py",
   "mimetype": "text/x-python",
   "name": "python",
   "nbconvert_exporter": "python",
   "pygments_lexer": "ipython2",
   "version": "2.7.12"
  }
 },
 "nbformat": 4,
 "nbformat_minor": 0
}