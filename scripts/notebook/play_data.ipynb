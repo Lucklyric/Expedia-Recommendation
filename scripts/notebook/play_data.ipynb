{
 "cells": [
  {
   "cell_type": "code",
   "execution_count": 2,
   "metadata": {
    "collapsed": true,
    "deletable": true,
    "editable": true
   },
   "outputs": [],
   "source": [
    "import os\n",
    "import tensorflow as tf\n",
    "import pandas as pd\n",
    "import numpy as np\n",
    "chunksize=100000"
   ]
  },
  {
   "cell_type": "code",
   "execution_count": 3,
   "metadata": {
    "collapsed": false,
    "deletable": true,
    "editable": true
   },
   "outputs": [],
   "source": [
    "des_latent = pd.read_csv(\"../../data/destinations.csv\")\n",
    "np.save(\"../../data/destinations\",des_latent.values[:,1:])"
   ]
  },
  {
   "cell_type": "code",
   "execution_count": 4,
   "metadata": {
    "collapsed": false,
    "deletable": true,
    "editable": true
   },
   "outputs": [],
   "source": [
    "des_value = np.load(\"../../data/destinations.npy\")"
   ]
  },
  {
   "cell_type": "code",
   "execution_count": 5,
   "metadata": {
    "collapsed": true,
    "deletable": true,
    "editable": true
   },
   "outputs": [],
   "source": [
    "train = pd.read_csv(\"../../data/train.csv\", iterator=True,chunksize=chunksize,na_values={'null','NaN'},keep_default_na=True)"
   ]
  },
  {
   "cell_type": "code",
   "execution_count": 6,
   "metadata": {
    "collapsed": true,
    "deletable": true,
    "editable": true
   },
   "outputs": [],
   "source": [
    "writer_13 = tf.python_io.TFRecordWriter(\"../../data/train-13-all-book-type-part.tfrecords\")\n",
    "writer_14 = tf.python_io.TFRecordWriter(\"../../data/train-14-all-book-type-part.tfrecords\")\n",
    "# writer_13 = tf.python_io.TFRecordWriter(\"../../data/train-13.tfrecords\")\n",
    "# writer_14 = tf.python_io.TFRecordWriter(\"../../data/train-14.tfrecords\")"
   ]
  },
  {
   "cell_type": "code",
   "execution_count": 7,
   "metadata": {
    "collapsed": false,
    "deletable": true,
    "editable": true,
    "scrolled": true
   },
   "outputs": [
    {
     "name": "stdout",
     "output_type": "stream",
     "text": [
      "Process 1, chunk\n",
      "Done\n"
     ]
    }
   ],
   "source": [
    "test = None\n",
    "counter = 0\n",
    "for train_chunk in train:\n",
    "    counter+=1\n",
    "    print (\"Process %d, chunk\" % counter)\n",
    "    # Convert date_time\n",
    "    train_chunk[\"srch_ci\"] = pd.to_datetime(train_chunk[\"srch_ci\"],errors=\"coerce\")\n",
    "    train_chunk[\"srch_co\"] = pd.to_datetime(train_chunk[\"srch_co\"],errors=\"coerce\")\n",
    "    train_chunk[\"date_time\"] = pd.to_datetime(train_chunk[\"date_time\"],errors=\"coerce\")\n",
    "\n",
    "    train_chunk = train_chunk.dropna(subset=[\"srch_ci\",\"srch_co\",\"date_time\"])\n",
    "\n",
    "    train_chunk[\"srch_ci_month\"] = train_chunk[\"srch_ci\"].dt.month\n",
    "    train_chunk[\"srch_ci_day\"] = train_chunk[\"srch_ci\"].dt.day\n",
    "\n",
    "    train_chunk[\"srch_co_month\"] = train_chunk[\"srch_co\"].dt.month\n",
    "    train_chunk[\"srch_co_day\"] = train_chunk[\"srch_co\"].dt.day\n",
    "    \n",
    "    train_chunk[\"month\"] = train_chunk[\"date_time\"].dt.month\n",
    "    train_chunk[\"year\"] = train_chunk[\"date_time\"].dt.year\n",
    "    \n",
    "#     train_chunk = train_chunk[train_chunk.is_booking == True]\n",
    "    \n",
    "    # Drop date_time\n",
    "    train_chunk = train_chunk.drop(['date_time','srch_co','srch_ci'],axis=1)\n",
    "    \n",
    "    # Fill NaN\n",
    "    train_chunk = train_chunk.fillna(-1)\n",
    "    \n",
    "    # Seperate to two years\n",
    "    t1 = train_chunk[((train_chunk.year == 2013) | ((train_chunk.year == 2014) & (train_chunk.month < 8)))]\n",
    "    t2 = train_chunk[((train_chunk.year == 2014) & (train_chunk.month >= 8))]\n",
    "\n",
    "     # Drop year\n",
    "    t1 = t1.drop(['year'],axis=1)\n",
    "    t2 = t2.drop(['year'],axis=1)\n",
    "\n",
    "    # Re-order\n",
    "    cols = t1.columns.tolist()\n",
    "    cols = cols[-5:]+cols[:-5]\n",
    "    t1 = t1[cols]\n",
    "    t2 = t2[cols]\n",
    "\n",
    "    # Write to TFRecords\n",
    "    for row in t1.values:\n",
    "        example = tf.train.Example(features=tf.train.Features(\n",
    "            feature={\n",
    "                \"label\":tf.train.Feature(float_list=tf.train.FloatList(value=[row[-1]] )),\n",
    "                \"feature\":tf.train.Feature(float_list=tf.train.FloatList(value=row[:-1] ))\n",
    "            }\n",
    "        ))\n",
    "        writer_13.write(example.SerializeToString())\n",
    "    count = 0\n",
    "    for row in t2.values:\n",
    "        count +=1\n",
    "        example = tf.train.Example(features=tf.train.Features(\n",
    "            feature={\n",
    "                \"label\":tf.train.Feature(float_list=tf.train.FloatList(value=[row[-1]] )),\n",
    "                \"feature\":tf.train.Feature(float_list=tf.train.FloatList(value=row[:-1] ))\n",
    "            }\n",
    "        ))\n",
    "        writer_14.write(example.SerializeToString())\n",
    "#     test = t2\n",
    "    break\n",
    "writer_13.close()\n",
    "writer_14.close()\n",
    "print \"Done\""
   ]
  },
  {
   "cell_type": "code",
   "execution_count": 8,
   "metadata": {
    "collapsed": false,
    "deletable": true,
    "editable": true
   },
   "outputs": [
    {
     "data": {
      "text/plain": [
       "(62449, 26)"
      ]
     },
     "execution_count": 8,
     "metadata": {},
     "output_type": "execute_result"
    }
   ],
   "source": [
    "t1.values.shape"
   ]
  },
  {
   "cell_type": "code",
   "execution_count": null,
   "metadata": {
    "collapsed": false,
    "deletable": true,
    "editable": true
   },
   "outputs": [],
   "source": [
    "t2.head(5)"
   ]
  },
  {
   "cell_type": "code",
   "execution_count": null,
   "metadata": {
    "collapsed": false,
    "deletable": true,
    "editable": true
   },
   "outputs": [],
   "source": [
    "for x in test.columns:\n",
    "    print x"
   ]
  },
  {
   "cell_type": "code",
   "execution_count": null,
   "metadata": {
    "collapsed": true,
    "deletable": true,
    "editable": true
   },
   "outputs": [],
   "source": [
    "test = pd.read_csv(\"../../data/train.csv\", iterator=True,chunksize=1,na_values={'null','NaN'},keep_default_na=True)"
   ]
  },
  {
   "cell_type": "code",
   "execution_count": null,
   "metadata": {
    "collapsed": false,
    "deletable": true,
    "editable": true
   },
   "outputs": [],
   "source": [
    "for t_data in test:\n",
    "    print t_data.columns\n",
    "    break"
   ]
  },
  {
   "cell_type": "code",
   "execution_count": null,
   "metadata": {
    "collapsed": false,
    "deletable": true,
    "editable": true
   },
   "outputs": [],
   "source": [
    "test = pd.read_csv(\"../../data/test.csv\", iterator=True,chunksize=1,na_values={'null','NaN'},keep_default_na=True)\n",
    "for t_data in test:\n",
    "    print t_data.columns\n",
    "    break"
   ]
  },
  {
   "cell_type": "code",
   "execution_count": null,
   "metadata": {
    "collapsed": true,
    "deletable": true,
    "editable": true
   },
   "outputs": [],
   "source": []
  }
 ],
 "metadata": {
  "kernelspec": {
   "display_name": "tensorflow_r1.0",
   "language": "python",
   "name": "tensorflow_1.0_isolated"
  },
  "language_info": {
   "codemirror_mode": {
    "name": "ipython",
    "version": 2
   },
   "file_extension": ".py",
   "mimetype": "text/x-python",
   "name": "python",
   "nbconvert_exporter": "python",
   "pygments_lexer": "ipython2",
   "version": "2.7.12"
  }
 },
 "nbformat": 4,
 "nbformat_minor": 0
}
