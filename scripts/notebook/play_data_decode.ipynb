{
 "cells": [
  {
   "cell_type": "code",
   "execution_count": 1,
   "metadata": {
    "collapsed": true
   },
   "outputs": [],
   "source": [
    "import os\n",
    "import tensorflow as tf"
   ]
  },
  {
   "cell_type": "code",
   "execution_count": 2,
   "metadata": {},
   "outputs": [],
   "source": [
    "def read_and_decode(filename):\n",
    "    # Create queue\n",
    "    filename_queue = tf.train.string_input_producer([filename])\n",
    "    reader = tf.TFRecordReader()\n",
    "    _, serialized_example = reader.read(filename_queue)  # Filename\n",
    "    features = tf.parse_single_example(serialized_example,\n",
    "                                       features={\n",
    "                                       'label': tf.FixedLenFeature([], tf.float32),\n",
    "                                       'feature' : tf.FixedLenFeature([25], tf.float32),\n",
    "                                       })\n",
    " \n",
    "    label = tf.cast(features['label'], tf.int32)\n",
    "    return features['feature'], label"
   ]
  },
  {
   "cell_type": "code",
   "execution_count": 3,
   "metadata": {
    "collapsed": true
   },
   "outputs": [],
   "source": [
    "feature,label = read_and_decode(\"../../data/train-13.tfrecords\")\n",
    "img_batch, label_batch = tf.train.shuffle_batch([feature,label],batch_size=125,num_threads=2,capacity=2000,min_after_dequeue=1000)"
   ]
  },
  {
   "cell_type": "code",
   "execution_count": 4,
   "metadata": {},
   "outputs": [
    {
     "name": "stdout",
     "output_type": "stream",
     "text": [
      "session start\n",
      "start queue runners\n",
      "(array([[  6.00000000e+00,   2.60000000e+01,   6.00000000e+00,\n",
      "          2.80000000e+01,   1.10000000e+01,   3.00000000e+01,\n",
      "          4.00000000e+00,   1.95000000e+02,   9.91000000e+02,\n",
      "          4.77250000e+04,  -1.00000000e+00,   1.04800000e+03,\n",
      "          0.00000000e+00,   0.00000000e+00,   9.00000000e+00,\n",
      "          2.00000000e+00,   0.00000000e+00,   1.00000000e+00,\n",
      "          8.80300000e+03,   1.00000000e+00,   0.00000000e+00,\n",
      "          1.00000000e+00,   3.00000000e+00,   1.51000000e+02,\n",
      "          1.23600000e+03]], dtype=float32), array([36], dtype=int32))\n"
     ]
    }
   ],
   "source": [
    "init = tf.global_variables_initializer()\n",
    "with tf.Session() as sess:\n",
    "    sess.run(init)\n",
    "    print \"session start\"\n",
    "    coord = tf.train.Coordinator()\n",
    "\n",
    "    threads = tf.train.start_queue_runners(sess=sess,coord=coord)\n",
    "    print \"start queue runners\"\n",
    "    for i in range(1):\n",
    "        val, l= sess.run([img_batch, label_batch])\n",
    "        print (val, l)\n",
    "    coord.request_stop()\n",
    "    coord.join(threads)\n",
    "    sess.close()"
   ]
  },
  {
   "cell_type": "code",
   "execution_count": null,
   "metadata": {
    "collapsed": true
   },
   "outputs": [],
   "source": []
  },
  {
   "cell_type": "code",
   "execution_count": null,
   "metadata": {
    "collapsed": true
   },
   "outputs": [],
   "source": []
  },
  {
   "cell_type": "code",
   "execution_count": null,
   "metadata": {
    "collapsed": true
   },
   "outputs": [],
   "source": []
  },
  {
   "cell_type": "code",
   "execution_count": null,
   "metadata": {
    "collapsed": true
   },
   "outputs": [],
   "source": []
  },
  {
   "cell_type": "code",
   "execution_count": null,
   "metadata": {
    "collapsed": true
   },
   "outputs": [],
   "source": []
  }
 ],
 "metadata": {
  "kernelspec": {
   "display_name": "Python 2",
   "language": "python",
   "name": "python2"
  },
  "language_info": {
   "codemirror_mode": {
    "name": "ipython",
    "version": 2
   },
   "file_extension": ".py",
   "mimetype": "text/x-python",
   "name": "python",
   "nbconvert_exporter": "python",
   "pygments_lexer": "ipython2",
   "version": "2.7.12"
  }
 },
 "nbformat": 4,
 "nbformat_minor": 2
}
